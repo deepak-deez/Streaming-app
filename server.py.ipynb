{
 "cells": [
  {
   "cell_type": "code",
   "execution_count": null,
   "metadata": {},
   "outputs": [],
   "source": [
    "import socket\n",
    "import cv2 \n",
    "import pickle \n",
    "import struct\n",
    "\n",
    "\n",
    "server_socket = socket.socket(socket.AF_INET,socket.SOCK_STREAM)\n",
    "host_name  = socket.gethostname()\n",
    "host_ip = socket.gethostbyname(host_name)\n",
    "port = 2222\n",
    "socket_address = (host_ip,port)\n",
    "print(\"Socket Created\")\n",
    "server_socket.bind(socket_address)\n",
    "print(\"Socket Binded Successfully\")\n",
    "server_socket.listen(5)\n",
    "print(\"Listening At:\",socket_address)\n",
    "\n",
    "\n",
    "while True:\n",
    "    client_socket,addr = server_socket.accept()\n",
    "    print('Connected To:',addr)\n",
    "    if client_socket:\n",
    "        cap = cv2.VideoCapture(0)\n",
    "        \n",
    "        while(cap.isOpened()):\n",
    "            img,frame = cap.read()\n",
    "            a = pickle.dumps(frame)\n",
    "            message = struct.pack(\"Q\",len(a))+a\n",
    "            client_socket.sendall(message)\n",
    "            \n",
    "\n",
    "            cv2.imshow('Transmitted Video',frame)\n",
    "            key = cv2.waitKey(1) & 0xFF\n",
    "            if key == ord('q'):\n",
    "                client_socket.close()\n",
    "                break\n",
    "        cv2.destroyAllWindows()"
   ]
  },
  {
   "cell_type": "code",
   "execution_count": null,
   "metadata": {},
   "outputs": [],
   "source": []
  }
 ],
 "metadata": {
  "kernelspec": {
   "display_name": "Python 3",
   "language": "python",
   "name": "python3"
  },
  "language_info": {
   "codemirror_mode": {
    "name": "ipython",
    "version": 3
   },
   "file_extension": ".py",
   "mimetype": "text/x-python",
   "name": "python",
   "nbconvert_exporter": "python",
   "pygments_lexer": "ipython3",
   "version": "3.8.3"
  }
 },
 "nbformat": 4,
 "nbformat_minor": 5
}
